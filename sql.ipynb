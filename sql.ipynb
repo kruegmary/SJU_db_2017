{
  "nbformat": 4,
  "nbformat_minor": 0,
  "metadata": {
    "colab": {
      "name": "sql.ipynb",
      "provenance": [],
      "authorship_tag": "ABX9TyP4fGQYZtRQpSmcsVLhYxHA",
      "include_colab_link": true
    },
    "kernelspec": {
      "name": "python3",
      "display_name": "Python 3"
    }
  },
  "cells": [
    {
      "cell_type": "markdown",
      "metadata": {
        "id": "view-in-github",
        "colab_type": "text"
      },
      "source": [
        "<a href=\"https://colab.research.google.com/github/kruegmary/SJU_db_2017/blob/master/sql.ipynb\" target=\"_parent\"><img src=\"https://colab.research.google.com/assets/colab-badge.svg\" alt=\"Open In Colab\"/></a>"
      ]
    },
    {
      "cell_type": "code",
      "metadata": {
        "id": "iI6YV79eM7Cy",
        "colab_type": "code",
        "colab": {
          "base_uri": "https://localhost:8080/",
          "height": 68
        },
        "outputId": "564895bc-88bb-4372-da79-aa8960e7c884"
      },
      "source": [
        "import sqlite3\n",
        "\n",
        "conn = sqlite3.connect('music.sqlite')\n",
        "cur = conn.cursor()\n",
        "cur.execute('CREATE table tracks (title TEXT, plays INTEGER)')\n",
        "\n",
        "cur.execute('INSERT INTO Tracks (title, plays) VALUES ( ?, ? )', \n",
        "    ( 'Thunderstruck', 20 ) )\n",
        "cur.execute('INSERT INTO Tracks (title, plays) VALUES ( ?, ? )', \n",
        "    ( 'My Way', 15 ) )\n",
        "conn.commit()\n",
        "\n",
        "print ('Tracks:')\n",
        "cur.execute('SELECT title, plays FROM Tracks')\n",
        "for row in cur :\n",
        "     print (row)\n",
        "\n",
        "cur.execute('DELETE FROM Tracks WHERE plays < 100')\n",
        "\n",
        "cur.close()\n"
      ],
      "execution_count": 8,
      "outputs": [
        {
          "output_type": "stream",
          "text": [
            "Tracks:\n",
            "('Thunderstruck', 20)\n",
            "('My Way', 15)\n"
          ],
          "name": "stdout"
        }
      ]
    }
  ]
}